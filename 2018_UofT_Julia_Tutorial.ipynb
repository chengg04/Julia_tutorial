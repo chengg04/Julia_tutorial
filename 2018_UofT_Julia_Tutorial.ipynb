{
 "cells": [
  {
   "cell_type": "markdown",
   "metadata": {},
   "source": [
    "# Why Julia?"
   ]
  },
  {
   "cell_type": "markdown",
   "metadata": {},
   "source": [
    "# Quasi-Newton Method (BFGS)\n",
    "Learning matrix operations in Julia through an example about Newton's method.<br>\n",
    "We want to find out the stationary point of the following multi-variate function:\n",
    "$$f(x)=(x_1-2)^4+(x_1-2x_2)^2$$\n"
   ]
  },
  {
   "cell_type": "code",
   "execution_count": 1,
   "metadata": {},
   "outputs": [
    {
     "data": {
      "text/plain": [
       "Hessian (generic function with 1 method)"
      ]
     },
     "execution_count": 1,
     "metadata": {},
     "output_type": "execute_result"
    }
   ],
   "source": [
    "f(x1,x2)=(x1-2)^4+(x1-2x2)^2 #define functions (one of three ways)\n",
    "df(x1,x2)=[4(x1-2)^3+2(x1-2x2);-4(x1-2x2)]\n",
    "Hessian(x1,x2)=[12(x1-2)^2+2x1 -4;-4 8]"
   ]
  },
  {
   "cell_type": "code",
   "execution_count": 2,
   "metadata": {},
   "outputs": [
    {
     "data": {
      "text/plain": [
       "2×2 Array{Float64,2}:\n",
       " 0.5   0.25\n",
       " 0.25  0.25"
      ]
     },
     "execution_count": 2,
     "metadata": {},
     "output_type": "execute_result"
    }
   ],
   "source": [
    "inv(Hessian(2,3))#getting the inverse of a matrix. Don't need additional package"
   ]
  },
  {
   "cell_type": "code",
   "execution_count": 5,
   "metadata": {},
   "outputs": [
    {
     "name": "stdout",
     "output_type": "stream",
     "text": [
      "BFGS converges within 20 stepsThe optimal value is 1.7570295550248682e-9\n"
     ]
    }
   ],
   "source": [
    "#initializing variables\n",
    "x=[0;0]\n",
    "f_now=f(x[1],x[2]) #in julia, indices start from 1, instead of 0\n",
    "f_prev=-Inf\n",
    "df_now=df(x[1],x[2])\n",
    "H=Hessian(x[1],x[2])\n",
    "ϵ=1e-08 #cool feature: \\epsilon then Tab to get the greek letter\n",
    "α=1 \n",
    "Nloop=100\n",
    "k=0\n",
    "\n",
    "while k<=Nloop #a while loop\n",
    "    if abs(f_now-f_prev)>ϵ #using if\n",
    "        k+=1\n",
    "        f_prev=f_now\n",
    "        df_prev=df_now\n",
    "        d=-inv(H)*df_now\n",
    "        x=x+α*d\n",
    "        f_now=f(x[1],x[2])\n",
    "        df_now=df(x[1],x[2])\n",
    "        s=α*d\n",
    "        y=df_now-df_prev\n",
    "        H=H+y*y'/(y'*s)-(H*s*s'*H)/(s'*H*s) #use ' to get transpose of a matrix\n",
    "    else \n",
    "        break\n",
    "    end\n",
    "end\n",
    "if abs(f_now-f_prev)>ϵ\n",
    "    println(\"BFGS fails to converge winthin 100 steps\") #print text and change line\n",
    "else\n",
    "    @printf(\"BFGS converges within %d steps\",k) #print formatted text. Doesn't change line automatically\n",
    "    println(\"The optimal value is \", f_now)\n",
    "end   "
   ]
  },
  {
   "cell_type": "code",
   "execution_count": 8,
   "metadata": {},
   "outputs": [
    {
     "data": {
      "text/plain": [
       "f (generic function with 3 methods)"
      ]
     },
     "execution_count": 8,
     "metadata": {},
     "output_type": "execute_result"
    }
   ],
   "source": [
    "#put everything inside function so we can change starting point easily\n",
    "function f(m_x,m_loop,m_α)\n",
    "        #initializing variables\n",
    "    x=m_x\n",
    "    f_now=f(x[1],x[2]) #in julia, indices start from 1, instead of 0\n",
    "    f_prev=-Inf\n",
    "    df_now=df(x[1],x[2])\n",
    "    H=Hessian(x[1],x[2])\n",
    "    ϵ=1e-08 #cool feature: \\epsilon then Tab to get the greek letter\n",
    "    α=m_α \n",
    "    Nloop=m_loop\n",
    "    k=0\n",
    "\n",
    "    while k<=Nloop #a while loop\n",
    "        if abs(f_now-f_prev)>ϵ #using if\n",
    "            k+=1\n",
    "            f_prev=f_now\n",
    "            df_prev=df_now\n",
    "            d=-inv(H)*df_now\n",
    "            x=x+α*d\n",
    "            f_now=f(x[1],x[2])\n",
    "            df_now=df(x[1],x[2])\n",
    "            s=α*d\n",
    "            y=df_now-df_prev\n",
    "            H=H+y*y'/(y'*s)-(H*s*s'*H)/(s'*H*s) #use ' to get transpose of a matrix\n",
    "        else \n",
    "            break\n",
    "        end\n",
    "    end\n",
    "    if abs(f_now-f_prev)>ϵ\n",
    "        println(\"BFGS fails to converge winthin 100 steps\") #print text and change line\n",
    "    else\n",
    "        @printf(\"BFGS converges within %d steps\",k) #print formatted text. Doesn't change line automatically\n",
    "        println(\"The optimal value is \", f_now)\n",
    "    end   \n",
    "end"
   ]
  },
  {
   "cell_type": "code",
   "execution_count": 9,
   "metadata": {},
   "outputs": [
    {
     "name": "stdout",
     "output_type": "stream",
     "text": [
      "BFGS converges within 17 stepsThe optimal value is 3.815550033188953e-9\n"
     ]
    }
   ],
   "source": [
    "f([1;1],100,1)"
   ]
  },
  {
   "cell_type": "code",
   "execution_count": 12,
   "metadata": {},
   "outputs": [
    {
     "name": "stdout",
     "output_type": "stream",
     "text": [
      "BFGS fails to converge winthin 100 steps\n"
     ]
    }
   ],
   "source": [
    "f([1;1],100,0.1) #fails to converge. Change m_loop to 1000"
   ]
  },
  {
   "cell_type": "markdown",
   "metadata": {},
   "source": [
    "# A Simple Optimization Problem\n",
    "JuMP is very useful when solving simple optimization for homework/fun. Or when you want to check the feasibility of a linear system.\n",
    "$$\\begin{aligned}\n",
    "\\min\\quad &x_1+x_2\\\\\n",
    "s.t.\\quad &x_1+3x_2\\geq 1\\\\\n",
    " &x_1,x_2>=0\n",
    "\\end{aligned}\n",
    "$$"
   ]
  },
  {
   "cell_type": "code",
   "execution_count": 13,
   "metadata": {},
   "outputs": [],
   "source": [
    "#using packages\n",
    "#JuMP is the package for optimization. Gurobi is the solver wrapper for the solver Gurobi\n",
    "using JuMP, Gurobi "
   ]
  },
  {
   "cell_type": "code",
   "execution_count": 15,
   "metadata": {},
   "outputs": [
    {
     "name": "stdout",
     "output_type": "stream",
     "text": [
      "Academic license - for non-commercial use only\n",
      "Optimize a model with 1 rows, 2 columns and 2 nonzeros\n",
      "Coefficient statistics:\n",
      "  Matrix range     [1e+00, 3e+00]\n",
      "  Objective range  [1e+00, 1e+00]\n",
      "  Bounds range     [0e+00, 0e+00]\n",
      "  RHS range        [1e+00, 1e+00]\n",
      "Presolve removed 1 rows and 2 columns\n",
      "Presolve time: 0.00s\n",
      "Presolve: All rows and columns removed\n",
      "Iteration    Objective       Primal Inf.    Dual Inf.      Time\n",
      "       0    3.3333333e-01   0.000000e+00   0.000000e+00      0s\n",
      "\n",
      "Solved in 0 iterations and 0.00 seconds\n",
      "Optimal objective  3.333333333e-01\n",
      "Objective value: 0.3333333333333333\n",
      "x2= 0.3333333333333333\n"
     ]
    }
   ],
   "source": [
    "#defining a model object, m\n",
    "m=Model(solver=GurobiSolver())\n",
    "\n",
    "#defining variables\n",
    "@variables m begin\n",
    "    x1>=0\n",
    "    x2>=0\n",
    "end\n",
    "\n",
    "#defining objective\n",
    "@objective(m,Min,x1+x2)\n",
    "\n",
    "#defining constraints\n",
    "@constraint(m,x1+3x2>=1)\n",
    "\n",
    "solve(m)\n",
    "\n",
    "println(\"Objective value: \", getobjectivevalue(m))\n",
    "println(\"x2= \", getvalue(x2))"
   ]
  },
  {
   "cell_type": "markdown",
   "metadata": {},
   "source": [
    "# Solving a Facility Location Problem Using JuMP\n"
   ]
  },
  {
   "cell_type": "code",
   "execution_count": null,
   "metadata": {},
   "outputs": [],
   "source": []
  },
  {
   "cell_type": "markdown",
   "metadata": {},
   "source": [
    "Reference:<br>\n",
    "[1] "
   ]
  }
 ],
 "metadata": {
  "kernelspec": {
   "display_name": "Julia 0.6.0",
   "language": "julia",
   "name": "julia-0.6"
  },
  "language_info": {
   "file_extension": ".jl",
   "mimetype": "application/julia",
   "name": "julia",
   "version": "0.6.0"
  }
 },
 "nbformat": 4,
 "nbformat_minor": 2
}
