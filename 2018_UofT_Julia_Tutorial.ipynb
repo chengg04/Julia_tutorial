{
 "cells": [
  {
   "cell_type": "markdown",
   "metadata": {},
   "source": [
    "# Introduction: Why Julia?\n",
    "- Fast, comparable to C<br>\n",
    "- User-friendly, similar to Python<br>\n",
    "- A replacement for Matlab in numerical computation. And it's free<br>\n",
    "- A front for solvers including CPLEX, Gurobi, Cbc, SCS, etc. \n",
    "# Drawbacks:\n",
    "- Too many breaking changes<br>\n",
    "- Some packages are not as powerful as their counterparts in other languages\n",
    "# Suitable for:\n",
    "- People who are looking for answers to the problems that cannot be solved by a single language, e.g. a less pricy Matlab, or a fast solver wrapper that is also easy to debug<br>\n",
    "- Reducing the number of languages one uses for different tasks<br>\n",
    "- Writing and sharing your own packages<br>\n",
    "- Or just using it as a powerful and handy calculator! Like getting the determinant of a matrix: \n",
    "```\n",
    ">>A=[1 2;3 4] \n",
    ">>det(A)\n",
    "```\n",
    "- AND those who take Integer Programming this semester, and want to better understand solver:)"
   ]
  },
  {
   "cell_type": "markdown",
   "metadata": {},
   "source": [
    "# Basics\n",
    "- Intalling a package, e.g. Gurobi: `>>Pkg.add(\"Gurobi\")`\n",
    "- Recommended IDE: Atom, Jupyter Notebook, JuliaBox (To open Jupyter Notebook, run the following in the interactive session: \n",
    "```\n",
    ">>using IJulia \n",
    ">>notebook()\n",
    "```\n",
    "- Getting examples for a function directly in the interactive session, e.g. `? det()`"
   ]
  },
  {
   "cell_type": "markdown",
   "metadata": {},
   "source": [
    "# Example 1: Quasi-Newton Method (BFGS)\n",
    "Learning matrix operations in Julia through a quasi-Newton method example.<br>\n",
    "We want to find out the stationary point of the following multi-variate function:\n",
    "$$f(x)=(x_1-2)^4+(x_1-2x_2)^2$$\n"
   ]
  },
  {
   "cell_type": "code",
   "execution_count": 1,
   "metadata": {},
   "outputs": [
    {
     "data": {
      "text/plain": [
       "Hessian (generic function with 1 method)"
      ]
     },
     "execution_count": 1,
     "metadata": {},
     "output_type": "execute_result"
    }
   ],
   "source": [
    "f(x1,x2)=(x1-2)^4+(x1-2x2)^2 #define functions (one of three ways)\n",
    "df(x1,x2)=[4(x1-2)^3+2(x1-2x2);-4(x1-2x2)]\n",
    "Hessian(x1,x2)=[12(x1-2)^2+2x1 -4;-4 8]"
   ]
  },
  {
   "cell_type": "code",
   "execution_count": 2,
   "metadata": {},
   "outputs": [
    {
     "data": {
      "text/plain": [
       "2×2 Array{Float64,2}:\n",
       " 0.5   0.25\n",
       " 0.25  0.25"
      ]
     },
     "execution_count": 2,
     "metadata": {},
     "output_type": "execute_result"
    }
   ],
   "source": [
    "inv(Hessian(2,3))#getting the inverse of a matrix. Don't need additional package"
   ]
  },
  {
   "cell_type": "code",
   "execution_count": 5,
   "metadata": {},
   "outputs": [
    {
     "name": "stdout",
     "output_type": "stream",
     "text": [
      "BFGS converges within 20 stepsThe optimal value is 1.7570295550248682e-9\n"
     ]
    }
   ],
   "source": [
    "#initializing variables\n",
    "x=[0;0]\n",
    "f_now=f(x[1],x[2]) #in julia, indices start from 1, instead of 0\n",
    "f_prev=-Inf\n",
    "df_now=df(x[1],x[2])\n",
    "H=Hessian(x[1],x[2])\n",
    "ϵ=1e-08 #cool feature: \\epsilon then Tab to get the greek letter\n",
    "α=1 \n",
    "Nloop=100\n",
    "k=0\n",
    "\n",
    "while k<=Nloop #a while loop\n",
    "    if abs(f_now-f_prev)>ϵ #using if\n",
    "        k+=1\n",
    "        f_prev=f_now\n",
    "        df_prev=df_now\n",
    "        d=-inv(H)*df_now\n",
    "        x=x+α*d\n",
    "        f_now=f(x[1],x[2])\n",
    "        df_now=df(x[1],x[2])\n",
    "        s=α*d\n",
    "        y=df_now-df_prev\n",
    "        H=H+y*y'/(y'*s)-(H*s*s'*H)/(s'*H*s) #use ' to get transpose of a matrix\n",
    "    else \n",
    "        break\n",
    "    end\n",
    "end\n",
    "if abs(f_now-f_prev)>ϵ\n",
    "    println(\"BFGS fails to converge winthin 100 steps\") #print text and change line\n",
    "else\n",
    "    @printf(\"BFGS converges within %d steps\",k) #print formatted text. Doesn't change line automatically\n",
    "    println(\"The optimal value is \", f_now)\n",
    "end   "
   ]
  },
  {
   "cell_type": "code",
   "execution_count": 8,
   "metadata": {},
   "outputs": [
    {
     "data": {
      "text/plain": [
       "f (generic function with 3 methods)"
      ]
     },
     "execution_count": 8,
     "metadata": {},
     "output_type": "execute_result"
    }
   ],
   "source": [
    "#put everything inside function so we can change starting point easily\n",
    "function f(m_x,m_loop,m_α)\n",
    "        #initializing variables\n",
    "    x=m_x\n",
    "    f_now=f(x[1],x[2]) #in julia, indices start from 1, instead of 0\n",
    "    f_prev=-Inf\n",
    "    df_now=df(x[1],x[2])\n",
    "    H=Hessian(x[1],x[2])\n",
    "    ϵ=1e-08 #cool feature: \\epsilon then Tab to get the greek letter\n",
    "    α=m_α \n",
    "    Nloop=m_loop\n",
    "    k=0\n",
    "\n",
    "    while k<=Nloop #a while loop\n",
    "        if abs(f_now-f_prev)>ϵ #using if\n",
    "            k+=1\n",
    "            f_prev=f_now\n",
    "            df_prev=df_now\n",
    "            d=-inv(H)*df_now\n",
    "            x=x+α*d\n",
    "            f_now=f(x[1],x[2])\n",
    "            df_now=df(x[1],x[2])\n",
    "            s=α*d\n",
    "            y=df_now-df_prev\n",
    "            H=H+y*y'/(y'*s)-(H*s*s'*H)/(s'*H*s) #use ' to get transpose of a matrix\n",
    "        else \n",
    "            break\n",
    "        end\n",
    "    end\n",
    "    if abs(f_now-f_prev)>ϵ\n",
    "        println(\"BFGS fails to converge winthin 100 steps\") #print text and change line\n",
    "    else\n",
    "        @printf(\"BFGS converges within %d steps\",k) #print formatted text. Doesn't change line automatically\n",
    "        println(\"The optimal value is \", f_now)\n",
    "    end   \n",
    "end"
   ]
  },
  {
   "cell_type": "code",
   "execution_count": 9,
   "metadata": {},
   "outputs": [
    {
     "name": "stdout",
     "output_type": "stream",
     "text": [
      "BFGS converges within 17 stepsThe optimal value is 3.815550033188953e-9\n"
     ]
    }
   ],
   "source": [
    "f([1;1],100,1)"
   ]
  },
  {
   "cell_type": "code",
   "execution_count": 12,
   "metadata": {},
   "outputs": [
    {
     "name": "stdout",
     "output_type": "stream",
     "text": [
      "BFGS fails to converge winthin 100 steps\n"
     ]
    }
   ],
   "source": [
    "f([1;1],100,0.1) #fails to converge. Change m_loop to 1000"
   ]
  },
  {
   "cell_type": "markdown",
   "metadata": {},
   "source": [
    "# Example 2: A Simple Optimization Problem\n",
    "JuMP is very useful when solving simple optimization for homework/fun. Or when you want to check the feasibility of a linear system.\n",
    "$$\\begin{aligned}\n",
    "\\min\\quad &x_1+x_2\\\\\n",
    "s.t.\\quad &x_1+3x_2\\geq 1\\\\\n",
    " &x_1,x_2>=0\n",
    "\\end{aligned}\n",
    "$$"
   ]
  },
  {
   "cell_type": "code",
   "execution_count": 2,
   "metadata": {},
   "outputs": [],
   "source": [
    "#using packages\n",
    "#JuMP is the package for optimization. Gurobi is the solver wrapper for the solver Gurobi\n",
    "using JuMP, Gurobi "
   ]
  },
  {
   "cell_type": "code",
   "execution_count": 15,
   "metadata": {},
   "outputs": [
    {
     "name": "stdout",
     "output_type": "stream",
     "text": [
      "Academic license - for non-commercial use only\n",
      "Optimize a model with 1 rows, 2 columns and 2 nonzeros\n",
      "Coefficient statistics:\n",
      "  Matrix range     [1e+00, 3e+00]\n",
      "  Objective range  [1e+00, 1e+00]\n",
      "  Bounds range     [0e+00, 0e+00]\n",
      "  RHS range        [1e+00, 1e+00]\n",
      "Presolve removed 1 rows and 2 columns\n",
      "Presolve time: 0.00s\n",
      "Presolve: All rows and columns removed\n",
      "Iteration    Objective       Primal Inf.    Dual Inf.      Time\n",
      "       0    3.3333333e-01   0.000000e+00   0.000000e+00      0s\n",
      "\n",
      "Solved in 0 iterations and 0.00 seconds\n",
      "Optimal objective  3.333333333e-01\n",
      "Objective value: 0.3333333333333333\n",
      "x2= 0.3333333333333333\n"
     ]
    }
   ],
   "source": [
    "#defining a model object, m\n",
    "m=Model(solver=GurobiSolver())\n",
    "\n",
    "#defining variables\n",
    "@variables m begin\n",
    "    x1>=0\n",
    "    x2>=0\n",
    "end\n",
    "\n",
    "#defining objective\n",
    "@objective(m,Min,x1+x2)\n",
    "\n",
    "#defining constraints\n",
    "@constraint(m,x1+3x2>=1)\n",
    "\n",
    "solve(m)\n",
    "\n",
    "println(\"Objective value: \", getobjectivevalue(m))\n",
    "println(\"x2= \", getvalue(x2))"
   ]
  },
  {
   "cell_type": "markdown",
   "metadata": {},
   "source": [
    "# Example 3: Solving a Capacitated Facility Location Problem Using JuMP\n",
    "(Based on an example in CPLEX installation folder, facility.cpp)<br>\n",
    "Let $\\mathcal{L}$ be the set of locations, $\\mathcal{C}$ be the set of customers. $f_l$ is the fixed cost of opening a facility, $v_{cl}$ the variable cost of delivering from location l to customer c (per unit), $d_l$ is the capacity of a facility.\n",
    "$$\\begin{aligned}\n",
    "\\min\\quad &\\sum_{l\\in\\mathcal{L}}f_lx_l+\\sum_{l\\in\\mathcal{L}}\\sum_{c\\in\\mathcal{C}}v_{cl}y_{cl}\\\\\n",
    "s.t.\\quad &\\sum_{l\\in\\mathcal{L}}y_{cl}=1, \\quad\\forall c\\in\\mathcal{C}\\\\\n",
    "&\\sum_{c\\in\\mathcal{C}}y_{cl}\\leq d_l x_l, \\quad\\forall l\\in\\mathcal{L}\\\\\n",
    "&x_l\\in\\{0,1\\}, \\quad \\forall l\\in\\mathcal{L}\\\\\n",
    "&0\\leq y_{cl}\\leq 1, \\quad \\forall l\\in\\mathcal{L},\\forall c\\in\\mathcal{C}\n",
    "\\end{aligned}$$"
   ]
  },
  {
   "cell_type": "code",
   "execution_count": 6,
   "metadata": {},
   "outputs": [
    {
     "name": "stdout",
     "output_type": "stream",
     "text": [
      "Academic license - for non-commercial use only\n",
      "Optimize a model with 13 rows, 45 columns and 85 nonzeros\n",
      "Variable types: 40 continuous, 5 integer (5 binary)\n",
      "Coefficient statistics:\n",
      "  Matrix range     [1e+00, 4e+00]\n",
      "  Objective range  [1e+01, 5e+02]\n",
      "  Bounds range     [1e+00, 1e+00]\n",
      "  RHS range        [1e+00, 1e+00]\n",
      "Presolve time: 0.00s\n",
      "Presolved: 13 rows, 45 columns, 85 nonzeros\n",
      "Variable types: 40 continuous, 5 integer (5 binary)\n",
      "\n",
      "Root relaxation: objective 1.298000e+03, 12 iterations, 0.00 seconds\n",
      "\n",
      "    Nodes    |    Current Node    |     Objective Bounds      |     Work\n",
      " Expl Unexpl |  Obj  Depth IntInf | Incumbent    BestBd   Gap | It/Node Time\n",
      "\n",
      "     0     0 1298.00000    0    1          - 1298.00000      -     -    0s\n",
      "H    0     0                    1430.0000000 1298.00000  9.23%     -    0s\n",
      "     0     0 1313.00000    0    1 1430.00000 1313.00000  8.18%     -    0s\n",
      "H    0     0                    1383.0000000 1313.00000  5.06%     -    0s\n",
      "     0     0 1315.00000    0    1 1383.00000 1315.00000  4.92%     -    0s\n",
      "     0     0 1320.00000    0    1 1383.00000 1320.00000  4.56%     -    0s\n",
      "     0     0 1321.00000    0    1 1383.00000 1321.00000  4.48%     -    0s\n",
      "     0     0 1324.50000    0    1 1383.00000 1324.50000  4.23%     -    0s\n",
      "\n",
      "Cutting planes:\n",
      "  Gomory: 1\n",
      "  Implied bound: 3\n",
      "  MIR: 1\n",
      "\n",
      "Explored 1 nodes (25 simplex iterations) in 0.01 seconds\n",
      "Thread count was 4 (of 4 available processors)\n",
      "\n",
      "Solution count 2: 1383 1430 \n",
      "\n",
      "Optimal solution found (tolerance 1.00e-04)\n",
      "Best objective 1.383000000000e+03, best bound 1.383000000000e+03, gap 0.0000%\n",
      "Min 480 x[1] + 200 x[2] + 320 x[3] + 340 x[4] + 300 x[5] + 24 y[1,1] + 74 y[1,2] + 31 y[1,3] + 51 y[1,4] + 84 y[1,5] + 57 y[2,1] + 54 y[2,2] + 86 y[2,3] + 61 y[2,4] + 68 y[2,5] + 57 y[3,1] + 67 y[3,2] + 29 y[3,3] + 91 y[3,4] + 71 y[3,5] + 54 y[4,1] + 54 y[4,2] + 65 y[4,3] + 82 y[4,4] + 94 y[4,5] + 98 y[5,1] + 81 y[5,2] + 16 y[5,3] + 61 y[5,4] + 27 y[5,5] + 13 y[6,1] + 92 y[6,2] + 34 y[6,3] + 94 y[6,4] + 87 y[6,5] + 54 y[7,1] + 72 y[7,2] + 41 y[7,3] + 12 y[7,4] + 78 y[7,5] + 54 y[8,1] + 64 y[8,2] + 65 y[8,3] + 89 y[8,4] + 89 y[8,5]\n",
      "Subject to\n",
      " y[1,1] + y[1,2] + y[1,3] + y[1,4] + y[1,5] = 1\n",
      " y[2,1] + y[2,2] + y[2,3] + y[2,4] + y[2,5] = 1\n",
      " y[3,1] + y[3,2] + y[3,3] + y[3,4] + y[3,5] = 1\n",
      " y[4,1] + y[4,2] + y[4,3] + y[4,4] + y[4,5] = 1\n",
      " y[5,1] + y[5,2] + y[5,3] + y[5,4] + y[5,5] = 1\n",
      " y[6,1] + y[6,2] + y[6,3] + y[6,4] + y[6,5] = 1\n",
      " y[7,1] + y[7,2] + y[7,3] + y[7,4] + y[7,5] = 1\n",
      " y[8,1] + y[8,2] + y[8,3] + y[8,4] + y[8,5] = 1\n",
      " y[1,1] + y[2,1] + y[3,1] + y[4,1] + y[5,1] + y[6,1] + y[7,1] + y[8,1] - 3 x[1] ≤ 0\n",
      " y[1,2] + y[2,2] + y[3,2] + y[4,2] + y[5,2] + y[6,2] + y[7,2] + y[8,2] - x[2] ≤ 0\n",
      " y[1,3] + y[2,3] + y[3,3] + y[4,3] + y[5,3] + y[6,3] + y[7,3] + y[8,3] - 2 x[3] ≤ 0\n",
      " y[1,4] + y[2,4] + y[3,4] + y[4,4] + y[5,4] + y[6,4] + y[7,4] + y[8,4] - 4 x[4] ≤ 0\n",
      " y[1,5] + y[2,5] + y[3,5] + y[4,5] + y[5,5] + y[6,5] + y[7,5] + y[8,5] - x[5] ≤ 0\n",
      " x[l] ∈ {0,1} ∀ l ∈ {1,2,3,4,5}\n",
      " 0 ≤ y[c,l] ≤ 1 ∀ c ∈ {1,2,…,7,8}, l ∈ {1,2,3,4,5}\n",
      "Solving time: 0.005280971527099609\n",
      "x: x: 1 dimensions:\n",
      "[1] = 1.0\n",
      "[2] = 1.0\n",
      "[3] = 0.0\n",
      "[4] = 1.0\n",
      "[5] = 0.0\n"
     ]
    }
   ],
   "source": [
    "using JuMP, Gurobi \n",
    "#data\n",
    "d=[ 3, 1, 2, 4, 1]\n",
    "fixed=[ 480, 200, 320, 340, 300]\n",
    "v=[[ 24, 74, 31, 51, 84], \n",
    " [ 57, 54, 86, 61, 68],\n",
    " [ 57, 67, 29, 91, 71],\n",
    " [ 54, 54, 65, 82, 94],\n",
    " [ 98, 81, 16, 61, 27],\n",
    " [ 13, 92, 34, 94, 87],\n",
    " [ 54, 72, 41, 12, 78],\n",
    " [ 54, 64, 65, 89, 89]]\n",
    "C=1:length(v)\n",
    "L=1:length(d)\n",
    "\n",
    "m=Model(solver=GurobiSolver())\n",
    "#variable block\n",
    "@variables m begin\n",
    "    x[l in L], Bin\n",
    "    0<=y[c in C, l in L]<=1\n",
    "end\n",
    "\n",
    "@objective(m,Min,sum(fixed[l]*x[l] for l in L)+sum(v[c][l]*y[c,l] for c in C, l in L))\n",
    "\n",
    "@constraints(m, begin\n",
    "    first_c[c=C],sum(y[c,l] for l in L)==1\n",
    "    [l=L], sum(y[c,l] for c in C)<=d[l]x[l]\n",
    "end)\n",
    "\n",
    "solve(m)\n",
    "\n",
    "print(m) #printing out the formulation\n",
    "println(\"Solving time: \",getsolvetime(m))\n",
    "println(\"x: \",getvalue(x))"
   ]
  },
  {
   "cell_type": "markdown",
   "metadata": {},
   "source": [
    "# Quiz 1: Using Newton's Method for Unconstrained Optimization\n",
    "Let Q=[3 1;2 4]. Please find the stationary point for the following unconstrained program:\n",
    "$$\n",
    "\\begin{aligned}\n",
    "f(x)=\\min\\quad \\frac{1}{2}x^TQx\n",
    "\\end{aligned}\n",
    "$$\n",
    "Using step length $\\alpha=1$, tolerance $\\epsilon=1e-08$, does method converge? If yes, how many iterations does it take to converge?<br>\n",
    "(Hint: $df(x)=[3x_1+x_2,x_1+4x_2]'$, $Hessian=Q$)"
   ]
  },
  {
   "cell_type": "markdown",
   "metadata": {},
   "source": [
    "# Quiz 2: Getting the Marginal Cost of Constraints"
   ]
  },
  {
   "cell_type": "markdown",
   "metadata": {},
   "source": [
    "# More Resources:\n",
    "[1] Shuvomoy Das Gupta's GitHub repository contains materials from 2015&2016 (last four files): https://github.com/Shuvomoy/juliaopt-notebooks/tree/master/notebooks<br>\n",
    "[2] Examples for optimization problems in the JuMP repository: https://github.com/JuliaOpt/JuMP.jl/tree/master/examples\n"
   ]
  }
 ],
 "metadata": {
  "kernelspec": {
   "display_name": "Julia 0.6.0",
   "language": "julia",
   "name": "julia-0.6"
  },
  "language_info": {
   "file_extension": ".jl",
   "mimetype": "application/julia",
   "name": "julia",
   "version": "0.6.0"
  }
 },
 "nbformat": 4,
 "nbformat_minor": 2
}
